{
 "cells": [
  {
   "cell_type": "code",
   "execution_count": 7,
   "metadata": {},
   "outputs": [],
   "source": [
    "import matplotlib.pyplot as plt\n",
    "import numpy as np\n",
    "import imageio\n",
    "import csv\n",
    "import os"
   ]
  },
  {
   "cell_type": "code",
   "execution_count": 8,
   "metadata": {},
   "outputs": [],
   "source": [
    "problems = [\"xycart\", \"thetamagpolar\", \"degrees\"]\n",
    "# sizes = [20, 50, 200]\n",
    "sizes = [20, 50]"
   ]
  },
  {
   "cell_type": "code",
   "execution_count": 9,
   "metadata": {},
   "outputs": [],
   "source": [
    "def draw_circle_scatter(ifname: str, ofname: str) -> None:\n",
    "    xs = []\n",
    "    ys = []\n",
    "\n",
    "    with open(ifname) as file:\n",
    "        reader = csv.reader(file, delimiter=\" \")\n",
    "        for row in reader:\n",
    "            xs.append(float(row[0]))\n",
    "            ys.append(float(row[1]))\n",
    "\n",
    "    fig, ax = plt.subplots()\n",
    "\n",
    "    ax.scatter(xs, ys)\n",
    "\n",
    "    t = np.linspace(0, np.pi * 2, 100)\n",
    "\n",
    "    ax.plot(np.cos(t), np.sin(t), linewidth=1)\n",
    "    plt.title(f'Generation {int(ifname.split(\"/\")[-1][:-4]):03d}')\n",
    "    plt.gca().set_aspect(\"equal\")\n",
    "\n",
    "    fig.savefig(ofname)\n",
    "\n",
    "    plt.close()"
   ]
  },
  {
   "cell_type": "code",
   "execution_count": 10,
   "metadata": {},
   "outputs": [],
   "source": [
    "# Create all of the frame sub-directories so they don't need to be git tracked\n",
    "os.makedirs(\"./frames\", exist_ok=True)\n",
    "\n",
    "for prob in problems:\n",
    "    os.makedirs(f'./frames/{prob}', exist_ok=True)\n",
    "    for size in sizes:\n",
    "        os.makedirs(f'./frames/{prob}/{size}', exist_ok=True)"
   ]
  },
  {
   "cell_type": "code",
   "execution_count": 11,
   "metadata": {},
   "outputs": [],
   "source": [
    "def generate_animation(problem: str, size: int, frame_length=1) -> None:\n",
    "    image_folder = f\"./frames/{problem}/{size}\"\n",
    "    data_folder = f\"../data/{problem}/{size}\"\n",
    "    csvs = sorted([f for f in os.listdir(data_folder) if f.endswith('.csv')])\n",
    "    for dfile in csvs:\n",
    "        draw_circle_scatter(f'{data_folder}/{dfile}', f'{image_folder}/{int(dfile.split(\"/\")[-1][:-4]):03d}.png')\n",
    "\n",
    "    images = []\n",
    "    # Get the list of PNG files in the image folder\n",
    "    file_list = sorted([f for f in os.listdir(image_folder) if f.endswith('.png')])\n",
    "\n",
    "    for filename in file_list:\n",
    "        file_path = os.path.join(image_folder, filename)\n",
    "        images.append(imageio.v2.imread(file_path))\n",
    "\n",
    "    # Save the GIF\n",
    "    imageio.mimsave(f'./animations/{problem}_{size}.gif', images, duration=frame_length*200)  # Adjust duration as needed"
   ]
  },
  {
   "cell_type": "code",
   "execution_count": 12,
   "metadata": {},
   "outputs": [],
   "source": [
    "for prob in problems:\n",
    "    for size in sizes:\n",
    "        generate_animation(prob, size)"
   ]
  }
 ],
 "metadata": {
  "kernelspec": {
   "display_name": "venv",
   "language": "python",
   "name": "python3"
  },
  "language_info": {
   "codemirror_mode": {
    "name": "ipython",
    "version": 3
   },
   "file_extension": ".py",
   "mimetype": "text/x-python",
   "name": "python",
   "nbconvert_exporter": "python",
   "pygments_lexer": "ipython3",
   "version": "3.9.5"
  }
 },
 "nbformat": 4,
 "nbformat_minor": 2
}
